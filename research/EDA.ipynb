{
 "cells": [
  {
   "cell_type": "code",
   "execution_count": 1,
   "metadata": {},
   "outputs": [
    {
     "data": {
      "text/html": [
       "<div>\n",
       "<style scoped>\n",
       "    .dataframe tbody tr th:only-of-type {\n",
       "        vertical-align: middle;\n",
       "    }\n",
       "\n",
       "    .dataframe tbody tr th {\n",
       "        vertical-align: top;\n",
       "    }\n",
       "\n",
       "    .dataframe thead th {\n",
       "        text-align: right;\n",
       "    }\n",
       "</style>\n",
       "<table border=\"1\" class=\"dataframe\">\n",
       "  <thead>\n",
       "    <tr style=\"text-align: right;\">\n",
       "      <th></th>\n",
       "      <th>text</th>\n",
       "      <th>label</th>\n",
       "      <th>target</th>\n",
       "    </tr>\n",
       "  </thead>\n",
       "  <tbody>\n",
       "    <tr>\n",
       "      <th>0</th>\n",
       "      <td>@VirginAmerica it's really aggressive to blast...</td>\n",
       "      <td>negative</td>\n",
       "      <td>0</td>\n",
       "    </tr>\n",
       "    <tr>\n",
       "      <th>1</th>\n",
       "      <td>@VirginAmerica and it's a really big bad thing...</td>\n",
       "      <td>negative</td>\n",
       "      <td>0</td>\n",
       "    </tr>\n",
       "    <tr>\n",
       "      <th>2</th>\n",
       "      <td>@VirginAmerica seriously would pay $30 a fligh...</td>\n",
       "      <td>negative</td>\n",
       "      <td>0</td>\n",
       "    </tr>\n",
       "    <tr>\n",
       "      <th>3</th>\n",
       "      <td>@VirginAmerica SFO-PDX schedule is still MIA.</td>\n",
       "      <td>negative</td>\n",
       "      <td>0</td>\n",
       "    </tr>\n",
       "    <tr>\n",
       "      <th>4</th>\n",
       "      <td>@VirginAmerica  I flew from NYC to SFO last we...</td>\n",
       "      <td>negative</td>\n",
       "      <td>0</td>\n",
       "    </tr>\n",
       "  </tbody>\n",
       "</table>\n",
       "</div>"
      ],
      "text/plain": [
       "                                                text     label  target\n",
       "0  @VirginAmerica it's really aggressive to blast...  negative       0\n",
       "1  @VirginAmerica and it's a really big bad thing...  negative       0\n",
       "2  @VirginAmerica seriously would pay $30 a fligh...  negative       0\n",
       "3      @VirginAmerica SFO-PDX schedule is still MIA.  negative       0\n",
       "4  @VirginAmerica  I flew from NYC to SFO last we...  negative       0"
      ]
     },
     "execution_count": 1,
     "metadata": {},
     "output_type": "execute_result"
    }
   ],
   "source": [
    "import pandas as pd\n",
    "import matplotlib.pyplot as plt\n",
    "df = pd.DataFrame()\n",
    "\n",
    "data_dirs = {\n",
    "        'data/science-challenge-master-data/negative': 'negative',\n",
    "        'data/science-challenge-master-data/positive': 'positive',\n",
    "        'data/science-challenge-master-data/neutral': 'neutral'\n",
    "        }\n",
    "\n",
    "label_decode_map = {'negative': 0, \n",
    "                    'neutral': 1,\n",
    "                    'positive': 2}\n",
    "\n",
    "for file, label in data_dirs.items():\n",
    "    temp_df = pd.read_csv(file, sep='\\t', names=['text'])\n",
    "    if label in ['positive', 'neutral', 'negative']:\n",
    "        temp_df['label'] = label\n",
    "    df = pd.concat([df, temp_df])\n",
    "\n",
    "def encode_sentiment(label):\n",
    "    return label_decode_map[label]\n",
    "\n",
    "df['target'] = df['label'].apply(lambda x: encode_sentiment(x))\n",
    "\n",
    "df.head()"
   ]
  },
  {
   "cell_type": "code",
   "execution_count": 6,
   "metadata": {},
   "outputs": [
    {
     "name": "stdout",
     "output_type": "stream",
     "text": [
      "Shape of the dataframe is (14640, 3)\n",
      "The number of nulls in each column are \n",
      " text      0\n",
      "label     0\n",
      "target    0\n",
      "dtype: int64\n"
     ]
    }
   ],
   "source": [
    "print(\"Shape of the dataframe is\",df.shape)\n",
    "print(\"The number of nulls in each column are \\n\", df.isna().sum())"
   ]
  },
  {
   "attachments": {},
   "cell_type": "markdown",
   "metadata": {},
   "source": [
    "## Imbalanced Classes"
   ]
  },
  {
   "cell_type": "code",
   "execution_count": 7,
   "metadata": {},
   "outputs": [
    {
     "data": {
      "text/plain": [
       "Text(0.5, 1.0, 'Count of Type of Sentiment')"
      ]
     },
     "execution_count": 7,
     "metadata": {},
     "output_type": "execute_result"
    },
    {
     "data": {
      "image/png": "[encoded data removed]",
      "text/plain": [
       "<Figure size 1200x600 with 1 Axes>"
      ]
     },
     "metadata": {},
     "output_type": "display_data"
    }
   ],
   "source": [
    "counter = df['label'].value_counts()\n",
    "index = [1,2,3]\n",
    "plt.figure(1,figsize=(12,6))\n",
    "plt.bar(index,counter,color=['green','red','blue'])\n",
    "plt.xticks(index,['negative','neutral','positive'],rotation=0)\n",
    "plt.xlabel('Sentiment Type')\n",
    "plt.ylabel('Sentiment Count')\n",
    "plt.title('Count of Type of Sentiment')"
   ]
  },
  {
   "cell_type": "code",
   "execution_count": null,
   "metadata": {},
   "outputs": [],
   "source": []
  }
 ],
 "metadata": {
  "kernelspec": {
   "display_name": "twitter-sentiment",
   "language": "python",
   "name": "python3"
  },
  "language_info": {
   "codemirror_mode": {
    "name": "ipython",
    "version": 3
   },
   "file_extension": ".py",
   "mimetype": "text/x-python",
   "name": "python",
   "nbconvert_exporter": "python",
   "pygments_lexer": "ipython3",
   "version": "3.8.16"
  },
  "orig_nbformat": 4
 },
 "nbformat": 4,
 "nbformat_minor": 2
}
